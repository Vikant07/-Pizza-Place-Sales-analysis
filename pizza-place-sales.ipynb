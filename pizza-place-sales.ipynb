{
 "cells": [
  {
   "cell_type": "code",
   "execution_count": 1,
   "id": "68ae1c54",
   "metadata": {
    "_cell_guid": "b1076dfc-b9ad-4769-8c92-a6c4dae69d19",
    "_uuid": "8f2839f25d086af736a60e9eeb907d3b93b6e0e5",
    "execution": {
     "iopub.execute_input": "2024-02-17T09:35:26.796588Z",
     "iopub.status.busy": "2024-02-17T09:35:26.796226Z",
     "iopub.status.idle": "2024-02-17T09:35:29.669785Z",
     "shell.execute_reply": "2024-02-17T09:35:29.668609Z"
    },
    "papermill": {
     "duration": 2.885492,
     "end_time": "2024-02-17T09:35:29.671998",
     "exception": false,
     "start_time": "2024-02-17T09:35:26.786506",
     "status": "completed"
    },
    "tags": []
   },
   "outputs": [
    {
     "name": "stdout",
     "output_type": "stream",
     "text": [
      "/kaggle/input/pizza-place-sales/pizza_types.csv\n",
      "/kaggle/input/pizza-place-sales/orders.csv\n",
      "/kaggle/input/pizza-place-sales/order_details.csv\n",
      "/kaggle/input/pizza-place-sales/pizzas.csv\n"
     ]
    }
   ],
   "source": [
    "# This Python 3 environment comes with many helpful analytics libraries installed\n",
    "# It is defined by the kaggle/python Docker image: https://github.com/kaggle/docker-python\n",
    "# For example, here's several helpful packages to load\n",
    "\n",
    "import numpy as np # linear algebra\n",
    "import pandas as pd # data processing, CSV file I/O (e.g. pd.read_csv)\n",
    "import matplotlib.pyplot as plt\n",
    "import seaborn as sns\n",
    "import plotly.express as px\n",
    "\n",
    "# Input data files are available in the read-only \"../input/\" directory\n",
    "# For example, running this (by clicking run or pressing Shift+Enter) will list all files under the input directory\n",
    "\n",
    "import os\n",
    "for dirname, _, filenames in os.walk('/kaggle/input'):\n",
    "    for filename in filenames:\n",
    "        print(os.path.join(dirname, filename))\n",
    "\n",
    "# You can write up to 20GB to the current directory (/kaggle/working/) that gets preserved as output when you create a version using \"Save & Run All\" \n",
    "# You can also write temporary files to /kaggle/temp/, but they won't be saved outside of the current session"
   ]
  },
  {
   "cell_type": "code",
   "execution_count": 2,
   "id": "73d8eebe",
   "metadata": {
    "execution": {
     "iopub.execute_input": "2024-02-17T09:35:29.689387Z",
     "iopub.status.busy": "2024-02-17T09:35:29.688040Z",
     "iopub.status.idle": "2024-02-17T09:35:29.757884Z",
     "shell.execute_reply": "2024-02-17T09:35:29.756848Z"
    },
    "papermill": {
     "duration": 0.080853,
     "end_time": "2024-02-17T09:35:29.760291",
     "exception": false,
     "start_time": "2024-02-17T09:35:29.679438",
     "status": "completed"
    },
    "tags": []
   },
   "outputs": [],
   "source": [
    "df=pd.read_csv(\"/kaggle/input/pizza-place-sales/order_details.csv\")\n"
   ]
  },
  {
   "cell_type": "code",
   "execution_count": 3,
   "id": "64ce0a7d",
   "metadata": {
    "execution": {
     "iopub.execute_input": "2024-02-17T09:35:29.777074Z",
     "iopub.status.busy": "2024-02-17T09:35:29.776376Z",
     "iopub.status.idle": "2024-02-17T09:35:29.800676Z",
     "shell.execute_reply": "2024-02-17T09:35:29.799816Z"
    },
    "papermill": {
     "duration": 0.035196,
     "end_time": "2024-02-17T09:35:29.802965",
     "exception": false,
     "start_time": "2024-02-17T09:35:29.767769",
     "status": "completed"
    },
    "tags": []
   },
   "outputs": [
    {
     "data": {
      "text/html": [
       "<div>\n",
       "<style scoped>\n",
       "    .dataframe tbody tr th:only-of-type {\n",
       "        vertical-align: middle;\n",
       "    }\n",
       "\n",
       "    .dataframe tbody tr th {\n",
       "        vertical-align: top;\n",
       "    }\n",
       "\n",
       "    .dataframe thead th {\n",
       "        text-align: right;\n",
       "    }\n",
       "</style>\n",
       "<table border=\"1\" class=\"dataframe\">\n",
       "  <thead>\n",
       "    <tr style=\"text-align: right;\">\n",
       "      <th></th>\n",
       "      <th>order_details_id</th>\n",
       "      <th>order_id</th>\n",
       "      <th>pizza_id</th>\n",
       "      <th>quantity</th>\n",
       "    </tr>\n",
       "  </thead>\n",
       "  <tbody>\n",
       "    <tr>\n",
       "      <th>0</th>\n",
       "      <td>1</td>\n",
       "      <td>1</td>\n",
       "      <td>hawaiian_m</td>\n",
       "      <td>1</td>\n",
       "    </tr>\n",
       "    <tr>\n",
       "      <th>1</th>\n",
       "      <td>2</td>\n",
       "      <td>2</td>\n",
       "      <td>classic_dlx_m</td>\n",
       "      <td>1</td>\n",
       "    </tr>\n",
       "    <tr>\n",
       "      <th>2</th>\n",
       "      <td>3</td>\n",
       "      <td>2</td>\n",
       "      <td>five_cheese_l</td>\n",
       "      <td>1</td>\n",
       "    </tr>\n",
       "    <tr>\n",
       "      <th>3</th>\n",
       "      <td>4</td>\n",
       "      <td>2</td>\n",
       "      <td>ital_supr_l</td>\n",
       "      <td>1</td>\n",
       "    </tr>\n",
       "    <tr>\n",
       "      <th>4</th>\n",
       "      <td>5</td>\n",
       "      <td>2</td>\n",
       "      <td>mexicana_m</td>\n",
       "      <td>1</td>\n",
       "    </tr>\n",
       "    <tr>\n",
       "      <th>...</th>\n",
       "      <td>...</td>\n",
       "      <td>...</td>\n",
       "      <td>...</td>\n",
       "      <td>...</td>\n",
       "    </tr>\n",
       "    <tr>\n",
       "      <th>48615</th>\n",
       "      <td>48616</td>\n",
       "      <td>21348</td>\n",
       "      <td>ckn_alfredo_m</td>\n",
       "      <td>1</td>\n",
       "    </tr>\n",
       "    <tr>\n",
       "      <th>48616</th>\n",
       "      <td>48617</td>\n",
       "      <td>21348</td>\n",
       "      <td>four_cheese_l</td>\n",
       "      <td>1</td>\n",
       "    </tr>\n",
       "    <tr>\n",
       "      <th>48617</th>\n",
       "      <td>48618</td>\n",
       "      <td>21348</td>\n",
       "      <td>napolitana_s</td>\n",
       "      <td>1</td>\n",
       "    </tr>\n",
       "    <tr>\n",
       "      <th>48618</th>\n",
       "      <td>48619</td>\n",
       "      <td>21349</td>\n",
       "      <td>mexicana_l</td>\n",
       "      <td>1</td>\n",
       "    </tr>\n",
       "    <tr>\n",
       "      <th>48619</th>\n",
       "      <td>48620</td>\n",
       "      <td>21350</td>\n",
       "      <td>bbq_ckn_s</td>\n",
       "      <td>1</td>\n",
       "    </tr>\n",
       "  </tbody>\n",
       "</table>\n",
       "<p>48620 rows × 4 columns</p>\n",
       "</div>"
      ],
      "text/plain": [
       "       order_details_id  order_id       pizza_id  quantity\n",
       "0                     1         1     hawaiian_m         1\n",
       "1                     2         2  classic_dlx_m         1\n",
       "2                     3         2  five_cheese_l         1\n",
       "3                     4         2    ital_supr_l         1\n",
       "4                     5         2     mexicana_m         1\n",
       "...                 ...       ...            ...       ...\n",
       "48615             48616     21348  ckn_alfredo_m         1\n",
       "48616             48617     21348  four_cheese_l         1\n",
       "48617             48618     21348   napolitana_s         1\n",
       "48618             48619     21349     mexicana_l         1\n",
       "48619             48620     21350      bbq_ckn_s         1\n",
       "\n",
       "[48620 rows x 4 columns]"
      ]
     },
     "execution_count": 3,
     "metadata": {},
     "output_type": "execute_result"
    }
   ],
   "source": [
    "df"
   ]
  },
  {
   "cell_type": "code",
   "execution_count": 4,
   "id": "72d4d0c2",
   "metadata": {
    "execution": {
     "iopub.execute_input": "2024-02-17T09:35:29.820852Z",
     "iopub.status.busy": "2024-02-17T09:35:29.820166Z",
     "iopub.status.idle": "2024-02-17T09:35:29.873654Z",
     "shell.execute_reply": "2024-02-17T09:35:29.872840Z"
    },
    "papermill": {
     "duration": 0.065305,
     "end_time": "2024-02-17T09:35:29.876089",
     "exception": false,
     "start_time": "2024-02-17T09:35:29.810784",
     "status": "completed"
    },
    "tags": []
   },
   "outputs": [],
   "source": [
    "df2=pd.read_csv(\"/kaggle/input/pizza-place-sales/orders.csv\")\n",
    "df3=pd.read_csv(\"/kaggle/input/pizza-place-sales/pizza_types.csv\",encoding='iso-8859-1')\n",
    "df4=pd.read_csv(\"/kaggle/input/pizza-place-sales/pizzas.csv\")"
   ]
  },
  {
   "cell_type": "code",
   "execution_count": 5,
   "id": "deca650b",
   "metadata": {
    "execution": {
     "iopub.execute_input": "2024-02-17T09:35:29.893741Z",
     "iopub.status.busy": "2024-02-17T09:35:29.893125Z",
     "iopub.status.idle": "2024-02-17T09:35:29.918916Z",
     "shell.execute_reply": "2024-02-17T09:35:29.917988Z"
    },
    "papermill": {
     "duration": 0.037379,
     "end_time": "2024-02-17T09:35:29.921358",
     "exception": false,
     "start_time": "2024-02-17T09:35:29.883979",
     "status": "completed"
    },
    "tags": []
   },
   "outputs": [],
   "source": [
    "final=pd.merge(df,df2,on=\"order_id\",how=\"inner\")\n"
   ]
  },
  {
   "cell_type": "code",
   "execution_count": 6,
   "id": "421143f5",
   "metadata": {
    "execution": {
     "iopub.execute_input": "2024-02-17T09:35:29.938813Z",
     "iopub.status.busy": "2024-02-17T09:35:29.938097Z",
     "iopub.status.idle": "2024-02-17T09:35:29.966293Z",
     "shell.execute_reply": "2024-02-17T09:35:29.965032Z"
    },
    "papermill": {
     "duration": 0.039634,
     "end_time": "2024-02-17T09:35:29.968723",
     "exception": false,
     "start_time": "2024-02-17T09:35:29.929089",
     "status": "completed"
    },
    "tags": []
   },
   "outputs": [],
   "source": [
    "final=pd.merge(final,df4,on=\"pizza_id\",how=\"inner\")"
   ]
  },
  {
   "cell_type": "code",
   "execution_count": 7,
   "id": "87ebcfc5",
   "metadata": {
    "execution": {
     "iopub.execute_input": "2024-02-17T09:35:29.985807Z",
     "iopub.status.busy": "2024-02-17T09:35:29.985385Z",
     "iopub.status.idle": "2024-02-17T09:35:30.017565Z",
     "shell.execute_reply": "2024-02-17T09:35:30.016368Z"
    },
    "papermill": {
     "duration": 0.043392,
     "end_time": "2024-02-17T09:35:30.019848",
     "exception": false,
     "start_time": "2024-02-17T09:35:29.976456",
     "status": "completed"
    },
    "tags": []
   },
   "outputs": [],
   "source": [
    "final=pd.merge(final,df3,on=\"pizza_type_id\",how=\"inner\")"
   ]
  },
  {
   "cell_type": "code",
   "execution_count": 8,
   "id": "6414228b",
   "metadata": {
    "execution": {
     "iopub.execute_input": "2024-02-17T09:35:30.037768Z",
     "iopub.status.busy": "2024-02-17T09:35:30.037339Z",
     "iopub.status.idle": "2024-02-17T09:35:30.055920Z",
     "shell.execute_reply": "2024-02-17T09:35:30.054866Z"
    },
    "papermill": {
     "duration": 0.029731,
     "end_time": "2024-02-17T09:35:30.058168",
     "exception": false,
     "start_time": "2024-02-17T09:35:30.028437",
     "status": "completed"
    },
    "tags": []
   },
   "outputs": [
    {
     "data": {
      "text/html": [
       "<div>\n",
       "<style scoped>\n",
       "    .dataframe tbody tr th:only-of-type {\n",
       "        vertical-align: middle;\n",
       "    }\n",
       "\n",
       "    .dataframe tbody tr th {\n",
       "        vertical-align: top;\n",
       "    }\n",
       "\n",
       "    .dataframe thead th {\n",
       "        text-align: right;\n",
       "    }\n",
       "</style>\n",
       "<table border=\"1\" class=\"dataframe\">\n",
       "  <thead>\n",
       "    <tr style=\"text-align: right;\">\n",
       "      <th></th>\n",
       "      <th>order_details_id</th>\n",
       "      <th>order_id</th>\n",
       "      <th>pizza_id</th>\n",
       "      <th>quantity</th>\n",
       "      <th>date</th>\n",
       "      <th>time</th>\n",
       "      <th>pizza_type_id</th>\n",
       "      <th>size</th>\n",
       "      <th>price</th>\n",
       "      <th>name</th>\n",
       "      <th>category</th>\n",
       "      <th>ingredients</th>\n",
       "    </tr>\n",
       "  </thead>\n",
       "  <tbody>\n",
       "    <tr>\n",
       "      <th>0</th>\n",
       "      <td>1</td>\n",
       "      <td>1</td>\n",
       "      <td>hawaiian_m</td>\n",
       "      <td>1</td>\n",
       "      <td>2015-01-01</td>\n",
       "      <td>11:38:36</td>\n",
       "      <td>hawaiian</td>\n",
       "      <td>M</td>\n",
       "      <td>13.25</td>\n",
       "      <td>The Hawaiian Pizza</td>\n",
       "      <td>Classic</td>\n",
       "      <td>Sliced Ham, Pineapple, Mozzarella Cheese</td>\n",
       "    </tr>\n",
       "    <tr>\n",
       "      <th>1</th>\n",
       "      <td>2</td>\n",
       "      <td>2</td>\n",
       "      <td>classic_dlx_m</td>\n",
       "      <td>1</td>\n",
       "      <td>2015-01-01</td>\n",
       "      <td>11:57:40</td>\n",
       "      <td>classic_dlx</td>\n",
       "      <td>M</td>\n",
       "      <td>16.00</td>\n",
       "      <td>The Classic Deluxe Pizza</td>\n",
       "      <td>Classic</td>\n",
       "      <td>Pepperoni, Mushrooms, Red Onions, Red Peppers,...</td>\n",
       "    </tr>\n",
       "    <tr>\n",
       "      <th>2</th>\n",
       "      <td>3</td>\n",
       "      <td>2</td>\n",
       "      <td>five_cheese_l</td>\n",
       "      <td>1</td>\n",
       "      <td>2015-01-01</td>\n",
       "      <td>11:57:40</td>\n",
       "      <td>five_cheese</td>\n",
       "      <td>L</td>\n",
       "      <td>18.50</td>\n",
       "      <td>The Five Cheese Pizza</td>\n",
       "      <td>Veggie</td>\n",
       "      <td>Mozzarella Cheese, Provolone Cheese, Smoked Go...</td>\n",
       "    </tr>\n",
       "    <tr>\n",
       "      <th>3</th>\n",
       "      <td>4</td>\n",
       "      <td>2</td>\n",
       "      <td>ital_supr_l</td>\n",
       "      <td>1</td>\n",
       "      <td>2015-01-01</td>\n",
       "      <td>11:57:40</td>\n",
       "      <td>ital_supr</td>\n",
       "      <td>L</td>\n",
       "      <td>20.75</td>\n",
       "      <td>The Italian Supreme Pizza</td>\n",
       "      <td>Supreme</td>\n",
       "      <td>Calabrese Salami, Capocollo, Tomatoes, Red Oni...</td>\n",
       "    </tr>\n",
       "    <tr>\n",
       "      <th>4</th>\n",
       "      <td>5</td>\n",
       "      <td>2</td>\n",
       "      <td>mexicana_m</td>\n",
       "      <td>1</td>\n",
       "      <td>2015-01-01</td>\n",
       "      <td>11:57:40</td>\n",
       "      <td>mexicana</td>\n",
       "      <td>M</td>\n",
       "      <td>16.00</td>\n",
       "      <td>The Mexicana Pizza</td>\n",
       "      <td>Veggie</td>\n",
       "      <td>Tomatoes, Red Peppers, Jalapeno Peppers, Red O...</td>\n",
       "    </tr>\n",
       "    <tr>\n",
       "      <th>...</th>\n",
       "      <td>...</td>\n",
       "      <td>...</td>\n",
       "      <td>...</td>\n",
       "      <td>...</td>\n",
       "      <td>...</td>\n",
       "      <td>...</td>\n",
       "      <td>...</td>\n",
       "      <td>...</td>\n",
       "      <td>...</td>\n",
       "      <td>...</td>\n",
       "      <td>...</td>\n",
       "      <td>...</td>\n",
       "    </tr>\n",
       "    <tr>\n",
       "      <th>48615</th>\n",
       "      <td>48616</td>\n",
       "      <td>21348</td>\n",
       "      <td>ckn_alfredo_m</td>\n",
       "      <td>1</td>\n",
       "      <td>2015-12-31</td>\n",
       "      <td>21:23:10</td>\n",
       "      <td>ckn_alfredo</td>\n",
       "      <td>M</td>\n",
       "      <td>16.75</td>\n",
       "      <td>The Chicken Alfredo Pizza</td>\n",
       "      <td>Chicken</td>\n",
       "      <td>Chicken, Red Onions, Red Peppers, Mushrooms, A...</td>\n",
       "    </tr>\n",
       "    <tr>\n",
       "      <th>48616</th>\n",
       "      <td>48617</td>\n",
       "      <td>21348</td>\n",
       "      <td>four_cheese_l</td>\n",
       "      <td>1</td>\n",
       "      <td>2015-12-31</td>\n",
       "      <td>21:23:10</td>\n",
       "      <td>four_cheese</td>\n",
       "      <td>L</td>\n",
       "      <td>17.95</td>\n",
       "      <td>The Four Cheese Pizza</td>\n",
       "      <td>Veggie</td>\n",
       "      <td>Ricotta Cheese, Gorgonzola Piccante Cheese, Mo...</td>\n",
       "    </tr>\n",
       "    <tr>\n",
       "      <th>48617</th>\n",
       "      <td>48618</td>\n",
       "      <td>21348</td>\n",
       "      <td>napolitana_s</td>\n",
       "      <td>1</td>\n",
       "      <td>2015-12-31</td>\n",
       "      <td>21:23:10</td>\n",
       "      <td>napolitana</td>\n",
       "      <td>S</td>\n",
       "      <td>12.00</td>\n",
       "      <td>The Napolitana Pizza</td>\n",
       "      <td>Classic</td>\n",
       "      <td>Tomatoes, Anchovies, Green Olives, Red Onions,...</td>\n",
       "    </tr>\n",
       "    <tr>\n",
       "      <th>48618</th>\n",
       "      <td>48619</td>\n",
       "      <td>21349</td>\n",
       "      <td>mexicana_l</td>\n",
       "      <td>1</td>\n",
       "      <td>2015-12-31</td>\n",
       "      <td>22:09:54</td>\n",
       "      <td>mexicana</td>\n",
       "      <td>L</td>\n",
       "      <td>20.25</td>\n",
       "      <td>The Mexicana Pizza</td>\n",
       "      <td>Veggie</td>\n",
       "      <td>Tomatoes, Red Peppers, Jalapeno Peppers, Red O...</td>\n",
       "    </tr>\n",
       "    <tr>\n",
       "      <th>48619</th>\n",
       "      <td>48620</td>\n",
       "      <td>21350</td>\n",
       "      <td>bbq_ckn_s</td>\n",
       "      <td>1</td>\n",
       "      <td>2015-12-31</td>\n",
       "      <td>23:02:05</td>\n",
       "      <td>bbq_ckn</td>\n",
       "      <td>S</td>\n",
       "      <td>12.75</td>\n",
       "      <td>The Barbecue Chicken Pizza</td>\n",
       "      <td>Chicken</td>\n",
       "      <td>Barbecued Chicken, Red Peppers, Green Peppers,...</td>\n",
       "    </tr>\n",
       "  </tbody>\n",
       "</table>\n",
       "<p>48620 rows × 12 columns</p>\n",
       "</div>"
      ],
      "text/plain": [
       "       order_details_id  order_id       pizza_id  quantity        date  \\\n",
       "0                     1         1     hawaiian_m         1  2015-01-01   \n",
       "1                     2         2  classic_dlx_m         1  2015-01-01   \n",
       "2                     3         2  five_cheese_l         1  2015-01-01   \n",
       "3                     4         2    ital_supr_l         1  2015-01-01   \n",
       "4                     5         2     mexicana_m         1  2015-01-01   \n",
       "...                 ...       ...            ...       ...         ...   \n",
       "48615             48616     21348  ckn_alfredo_m         1  2015-12-31   \n",
       "48616             48617     21348  four_cheese_l         1  2015-12-31   \n",
       "48617             48618     21348   napolitana_s         1  2015-12-31   \n",
       "48618             48619     21349     mexicana_l         1  2015-12-31   \n",
       "48619             48620     21350      bbq_ckn_s         1  2015-12-31   \n",
       "\n",
       "           time pizza_type_id size  price                        name  \\\n",
       "0      11:38:36      hawaiian    M  13.25          The Hawaiian Pizza   \n",
       "1      11:57:40   classic_dlx    M  16.00    The Classic Deluxe Pizza   \n",
       "2      11:57:40   five_cheese    L  18.50       The Five Cheese Pizza   \n",
       "3      11:57:40     ital_supr    L  20.75   The Italian Supreme Pizza   \n",
       "4      11:57:40      mexicana    M  16.00          The Mexicana Pizza   \n",
       "...         ...           ...  ...    ...                         ...   \n",
       "48615  21:23:10   ckn_alfredo    M  16.75   The Chicken Alfredo Pizza   \n",
       "48616  21:23:10   four_cheese    L  17.95       The Four Cheese Pizza   \n",
       "48617  21:23:10    napolitana    S  12.00        The Napolitana Pizza   \n",
       "48618  22:09:54      mexicana    L  20.25          The Mexicana Pizza   \n",
       "48619  23:02:05       bbq_ckn    S  12.75  The Barbecue Chicken Pizza   \n",
       "\n",
       "      category                                        ingredients  \n",
       "0      Classic           Sliced Ham, Pineapple, Mozzarella Cheese  \n",
       "1      Classic  Pepperoni, Mushrooms, Red Onions, Red Peppers,...  \n",
       "2       Veggie  Mozzarella Cheese, Provolone Cheese, Smoked Go...  \n",
       "3      Supreme  Calabrese Salami, Capocollo, Tomatoes, Red Oni...  \n",
       "4       Veggie  Tomatoes, Red Peppers, Jalapeno Peppers, Red O...  \n",
       "...        ...                                                ...  \n",
       "48615  Chicken  Chicken, Red Onions, Red Peppers, Mushrooms, A...  \n",
       "48616   Veggie  Ricotta Cheese, Gorgonzola Piccante Cheese, Mo...  \n",
       "48617  Classic  Tomatoes, Anchovies, Green Olives, Red Onions,...  \n",
       "48618   Veggie  Tomatoes, Red Peppers, Jalapeno Peppers, Red O...  \n",
       "48619  Chicken  Barbecued Chicken, Red Peppers, Green Peppers,...  \n",
       "\n",
       "[48620 rows x 12 columns]"
      ]
     },
     "execution_count": 8,
     "metadata": {},
     "output_type": "execute_result"
    }
   ],
   "source": [
    "final"
   ]
  },
  {
   "cell_type": "code",
   "execution_count": 9,
   "id": "ef1e857e",
   "metadata": {
    "execution": {
     "iopub.execute_input": "2024-02-17T09:35:30.076950Z",
     "iopub.status.busy": "2024-02-17T09:35:30.076530Z",
     "iopub.status.idle": "2024-02-17T09:35:30.434788Z",
     "shell.execute_reply": "2024-02-17T09:35:30.433844Z"
    },
    "papermill": {
     "duration": 0.371179,
     "end_time": "2024-02-17T09:35:30.437422",
     "exception": false,
     "start_time": "2024-02-17T09:35:30.066243",
     "status": "completed"
    },
    "tags": []
   },
   "outputs": [],
   "source": [
    "final.to_csv(\"pizza place sales.csv\")"
   ]
  },
  {
   "cell_type": "code",
   "execution_count": 10,
   "id": "e89807ca",
   "metadata": {
    "execution": {
     "iopub.execute_input": "2024-02-17T09:35:30.455750Z",
     "iopub.status.busy": "2024-02-17T09:35:30.455324Z",
     "iopub.status.idle": "2024-02-17T09:35:30.471853Z",
     "shell.execute_reply": "2024-02-17T09:35:30.470682Z"
    },
    "papermill": {
     "duration": 0.027984,
     "end_time": "2024-02-17T09:35:30.473946",
     "exception": false,
     "start_time": "2024-02-17T09:35:30.445962",
     "status": "completed"
    },
    "tags": []
   },
   "outputs": [
    {
     "data": {
      "text/html": [
       "<div>\n",
       "<style scoped>\n",
       "    .dataframe tbody tr th:only-of-type {\n",
       "        vertical-align: middle;\n",
       "    }\n",
       "\n",
       "    .dataframe tbody tr th {\n",
       "        vertical-align: top;\n",
       "    }\n",
       "\n",
       "    .dataframe thead th {\n",
       "        text-align: right;\n",
       "    }\n",
       "</style>\n",
       "<table border=\"1\" class=\"dataframe\">\n",
       "  <thead>\n",
       "    <tr style=\"text-align: right;\">\n",
       "      <th></th>\n",
       "      <th>order_details_id</th>\n",
       "      <th>order_id</th>\n",
       "      <th>pizza_id</th>\n",
       "      <th>quantity</th>\n",
       "      <th>date</th>\n",
       "      <th>time</th>\n",
       "      <th>pizza_type_id</th>\n",
       "      <th>size</th>\n",
       "      <th>price</th>\n",
       "      <th>name</th>\n",
       "      <th>category</th>\n",
       "      <th>ingredients</th>\n",
       "    </tr>\n",
       "  </thead>\n",
       "  <tbody>\n",
       "    <tr>\n",
       "      <th>0</th>\n",
       "      <td>1</td>\n",
       "      <td>1</td>\n",
       "      <td>hawaiian_m</td>\n",
       "      <td>1</td>\n",
       "      <td>2015-01-01</td>\n",
       "      <td>11:38:36</td>\n",
       "      <td>hawaiian</td>\n",
       "      <td>M</td>\n",
       "      <td>13.25</td>\n",
       "      <td>The Hawaiian Pizza</td>\n",
       "      <td>Classic</td>\n",
       "      <td>Sliced Ham, Pineapple, Mozzarella Cheese</td>\n",
       "    </tr>\n",
       "    <tr>\n",
       "      <th>1</th>\n",
       "      <td>2</td>\n",
       "      <td>2</td>\n",
       "      <td>classic_dlx_m</td>\n",
       "      <td>1</td>\n",
       "      <td>2015-01-01</td>\n",
       "      <td>11:57:40</td>\n",
       "      <td>classic_dlx</td>\n",
       "      <td>M</td>\n",
       "      <td>16.00</td>\n",
       "      <td>The Classic Deluxe Pizza</td>\n",
       "      <td>Classic</td>\n",
       "      <td>Pepperoni, Mushrooms, Red Onions, Red Peppers,...</td>\n",
       "    </tr>\n",
       "    <tr>\n",
       "      <th>2</th>\n",
       "      <td>3</td>\n",
       "      <td>2</td>\n",
       "      <td>five_cheese_l</td>\n",
       "      <td>1</td>\n",
       "      <td>2015-01-01</td>\n",
       "      <td>11:57:40</td>\n",
       "      <td>five_cheese</td>\n",
       "      <td>L</td>\n",
       "      <td>18.50</td>\n",
       "      <td>The Five Cheese Pizza</td>\n",
       "      <td>Veggie</td>\n",
       "      <td>Mozzarella Cheese, Provolone Cheese, Smoked Go...</td>\n",
       "    </tr>\n",
       "    <tr>\n",
       "      <th>3</th>\n",
       "      <td>4</td>\n",
       "      <td>2</td>\n",
       "      <td>ital_supr_l</td>\n",
       "      <td>1</td>\n",
       "      <td>2015-01-01</td>\n",
       "      <td>11:57:40</td>\n",
       "      <td>ital_supr</td>\n",
       "      <td>L</td>\n",
       "      <td>20.75</td>\n",
       "      <td>The Italian Supreme Pizza</td>\n",
       "      <td>Supreme</td>\n",
       "      <td>Calabrese Salami, Capocollo, Tomatoes, Red Oni...</td>\n",
       "    </tr>\n",
       "    <tr>\n",
       "      <th>4</th>\n",
       "      <td>5</td>\n",
       "      <td>2</td>\n",
       "      <td>mexicana_m</td>\n",
       "      <td>1</td>\n",
       "      <td>2015-01-01</td>\n",
       "      <td>11:57:40</td>\n",
       "      <td>mexicana</td>\n",
       "      <td>M</td>\n",
       "      <td>16.00</td>\n",
       "      <td>The Mexicana Pizza</td>\n",
       "      <td>Veggie</td>\n",
       "      <td>Tomatoes, Red Peppers, Jalapeno Peppers, Red O...</td>\n",
       "    </tr>\n",
       "  </tbody>\n",
       "</table>\n",
       "</div>"
      ],
      "text/plain": [
       "   order_details_id  order_id       pizza_id  quantity        date      time  \\\n",
       "0                 1         1     hawaiian_m         1  2015-01-01  11:38:36   \n",
       "1                 2         2  classic_dlx_m         1  2015-01-01  11:57:40   \n",
       "2                 3         2  five_cheese_l         1  2015-01-01  11:57:40   \n",
       "3                 4         2    ital_supr_l         1  2015-01-01  11:57:40   \n",
       "4                 5         2     mexicana_m         1  2015-01-01  11:57:40   \n",
       "\n",
       "  pizza_type_id size  price                       name category  \\\n",
       "0      hawaiian    M  13.25         The Hawaiian Pizza  Classic   \n",
       "1   classic_dlx    M  16.00   The Classic Deluxe Pizza  Classic   \n",
       "2   five_cheese    L  18.50      The Five Cheese Pizza   Veggie   \n",
       "3     ital_supr    L  20.75  The Italian Supreme Pizza  Supreme   \n",
       "4      mexicana    M  16.00         The Mexicana Pizza   Veggie   \n",
       "\n",
       "                                         ingredients  \n",
       "0           Sliced Ham, Pineapple, Mozzarella Cheese  \n",
       "1  Pepperoni, Mushrooms, Red Onions, Red Peppers,...  \n",
       "2  Mozzarella Cheese, Provolone Cheese, Smoked Go...  \n",
       "3  Calabrese Salami, Capocollo, Tomatoes, Red Oni...  \n",
       "4  Tomatoes, Red Peppers, Jalapeno Peppers, Red O...  "
      ]
     },
     "execution_count": 10,
     "metadata": {},
     "output_type": "execute_result"
    }
   ],
   "source": [
    " final.head()"
   ]
  },
  {
   "cell_type": "code",
   "execution_count": 11,
   "id": "25cc453a",
   "metadata": {
    "execution": {
     "iopub.execute_input": "2024-02-17T09:35:30.493996Z",
     "iopub.status.busy": "2024-02-17T09:35:30.492758Z",
     "iopub.status.idle": "2024-02-17T09:35:30.532225Z",
     "shell.execute_reply": "2024-02-17T09:35:30.530039Z"
    },
    "papermill": {
     "duration": 0.051724,
     "end_time": "2024-02-17T09:35:30.534678",
     "exception": false,
     "start_time": "2024-02-17T09:35:30.482954",
     "status": "completed"
    },
    "tags": []
   },
   "outputs": [
    {
     "name": "stdout",
     "output_type": "stream",
     "text": [
      "<class 'pandas.core.frame.DataFrame'>\n",
      "RangeIndex: 48620 entries, 0 to 48619\n",
      "Data columns (total 12 columns):\n",
      " #   Column            Non-Null Count  Dtype  \n",
      "---  ------            --------------  -----  \n",
      " 0   order_details_id  48620 non-null  int64  \n",
      " 1   order_id          48620 non-null  int64  \n",
      " 2   pizza_id          48620 non-null  object \n",
      " 3   quantity          48620 non-null  int64  \n",
      " 4   date              48620 non-null  object \n",
      " 5   time              48620 non-null  object \n",
      " 6   pizza_type_id     48620 non-null  object \n",
      " 7   size              48620 non-null  object \n",
      " 8   price             48620 non-null  float64\n",
      " 9   name              48620 non-null  object \n",
      " 10  category          48620 non-null  object \n",
      " 11  ingredients       48620 non-null  object \n",
      "dtypes: float64(1), int64(3), object(8)\n",
      "memory usage: 4.5+ MB\n"
     ]
    }
   ],
   "source": [
    "final.info()"
   ]
  },
  {
   "cell_type": "code",
   "execution_count": 12,
   "id": "78a6c370",
   "metadata": {
    "execution": {
     "iopub.execute_input": "2024-02-17T09:35:30.554342Z",
     "iopub.status.busy": "2024-02-17T09:35:30.553341Z",
     "iopub.status.idle": "2024-02-17T09:35:30.580570Z",
     "shell.execute_reply": "2024-02-17T09:35:30.579795Z"
    },
    "papermill": {
     "duration": 0.039654,
     "end_time": "2024-02-17T09:35:30.582986",
     "exception": false,
     "start_time": "2024-02-17T09:35:30.543332",
     "status": "completed"
    },
    "tags": []
   },
   "outputs": [
    {
     "data": {
      "text/plain": [
       "order_details_id    0\n",
       "order_id            0\n",
       "pizza_id            0\n",
       "quantity            0\n",
       "date                0\n",
       "time                0\n",
       "pizza_type_id       0\n",
       "size                0\n",
       "price               0\n",
       "name                0\n",
       "category            0\n",
       "ingredients         0\n",
       "dtype: int64"
      ]
     },
     "execution_count": 12,
     "metadata": {},
     "output_type": "execute_result"
    }
   ],
   "source": [
    "final.isna().sum()"
   ]
  },
  {
   "cell_type": "code",
   "execution_count": 13,
   "id": "f8b7e0df",
   "metadata": {
    "execution": {
     "iopub.execute_input": "2024-02-17T09:35:30.602789Z",
     "iopub.status.busy": "2024-02-17T09:35:30.602359Z",
     "iopub.status.idle": "2024-02-17T09:35:30.632679Z",
     "shell.execute_reply": "2024-02-17T09:35:30.631554Z"
    },
    "papermill": {
     "duration": 0.043247,
     "end_time": "2024-02-17T09:35:30.635317",
     "exception": false,
     "start_time": "2024-02-17T09:35:30.592070",
     "status": "completed"
    },
    "tags": []
   },
   "outputs": [
    {
     "data": {
      "text/html": [
       "<div>\n",
       "<style scoped>\n",
       "    .dataframe tbody tr th:only-of-type {\n",
       "        vertical-align: middle;\n",
       "    }\n",
       "\n",
       "    .dataframe tbody tr th {\n",
       "        vertical-align: top;\n",
       "    }\n",
       "\n",
       "    .dataframe thead th {\n",
       "        text-align: right;\n",
       "    }\n",
       "</style>\n",
       "<table border=\"1\" class=\"dataframe\">\n",
       "  <thead>\n",
       "    <tr style=\"text-align: right;\">\n",
       "      <th></th>\n",
       "      <th>order_details_id</th>\n",
       "      <th>order_id</th>\n",
       "      <th>quantity</th>\n",
       "      <th>price</th>\n",
       "    </tr>\n",
       "  </thead>\n",
       "  <tbody>\n",
       "    <tr>\n",
       "      <th>count</th>\n",
       "      <td>48620.000000</td>\n",
       "      <td>48620.000000</td>\n",
       "      <td>48620.000000</td>\n",
       "      <td>48620.000000</td>\n",
       "    </tr>\n",
       "    <tr>\n",
       "      <th>mean</th>\n",
       "      <td>24310.500000</td>\n",
       "      <td>10701.479761</td>\n",
       "      <td>1.019622</td>\n",
       "      <td>16.494132</td>\n",
       "    </tr>\n",
       "    <tr>\n",
       "      <th>std</th>\n",
       "      <td>14035.529381</td>\n",
       "      <td>6180.119770</td>\n",
       "      <td>0.143077</td>\n",
       "      <td>3.621789</td>\n",
       "    </tr>\n",
       "    <tr>\n",
       "      <th>min</th>\n",
       "      <td>1.000000</td>\n",
       "      <td>1.000000</td>\n",
       "      <td>1.000000</td>\n",
       "      <td>9.750000</td>\n",
       "    </tr>\n",
       "    <tr>\n",
       "      <th>25%</th>\n",
       "      <td>12155.750000</td>\n",
       "      <td>5337.000000</td>\n",
       "      <td>1.000000</td>\n",
       "      <td>12.750000</td>\n",
       "    </tr>\n",
       "    <tr>\n",
       "      <th>50%</th>\n",
       "      <td>24310.500000</td>\n",
       "      <td>10682.500000</td>\n",
       "      <td>1.000000</td>\n",
       "      <td>16.500000</td>\n",
       "    </tr>\n",
       "    <tr>\n",
       "      <th>75%</th>\n",
       "      <td>36465.250000</td>\n",
       "      <td>16100.000000</td>\n",
       "      <td>1.000000</td>\n",
       "      <td>20.250000</td>\n",
       "    </tr>\n",
       "    <tr>\n",
       "      <th>max</th>\n",
       "      <td>48620.000000</td>\n",
       "      <td>21350.000000</td>\n",
       "      <td>4.000000</td>\n",
       "      <td>35.950000</td>\n",
       "    </tr>\n",
       "  </tbody>\n",
       "</table>\n",
       "</div>"
      ],
      "text/plain": [
       "       order_details_id      order_id      quantity         price\n",
       "count      48620.000000  48620.000000  48620.000000  48620.000000\n",
       "mean       24310.500000  10701.479761      1.019622     16.494132\n",
       "std        14035.529381   6180.119770      0.143077      3.621789\n",
       "min            1.000000      1.000000      1.000000      9.750000\n",
       "25%        12155.750000   5337.000000      1.000000     12.750000\n",
       "50%        24310.500000  10682.500000      1.000000     16.500000\n",
       "75%        36465.250000  16100.000000      1.000000     20.250000\n",
       "max        48620.000000  21350.000000      4.000000     35.950000"
      ]
     },
     "execution_count": 13,
     "metadata": {},
     "output_type": "execute_result"
    }
   ],
   "source": [
    "final.describe()"
   ]
  },
  {
   "cell_type": "code",
   "execution_count": 14,
   "id": "54dae3a0",
   "metadata": {
    "execution": {
     "iopub.execute_input": "2024-02-17T09:35:30.656469Z",
     "iopub.status.busy": "2024-02-17T09:35:30.655603Z",
     "iopub.status.idle": "2024-02-17T09:35:30.664685Z",
     "shell.execute_reply": "2024-02-17T09:35:30.663492Z"
    },
    "papermill": {
     "duration": 0.022718,
     "end_time": "2024-02-17T09:35:30.666913",
     "exception": false,
     "start_time": "2024-02-17T09:35:30.644195",
     "status": "completed"
    },
    "tags": []
   },
   "outputs": [
    {
     "data": {
      "text/plain": [
       "0"
      ]
     },
     "execution_count": 14,
     "metadata": {},
     "output_type": "execute_result"
    }
   ],
   "source": [
    "final.order_details_id.duplicated().sum()"
   ]
  },
  {
   "cell_type": "markdown",
   "id": "1ef4fa64",
   "metadata": {
    "papermill": {
     "duration": 0.00853,
     "end_time": "2024-02-17T09:35:30.684639",
     "exception": false,
     "start_time": "2024-02-17T09:35:30.676109",
     "status": "completed"
    },
    "tags": []
   },
   "source": [
    "####  **1. How many customers do we have each day? Are there any peak hours?**"
   ]
  },
  {
   "cell_type": "code",
   "execution_count": 15,
   "id": "93e7530e",
   "metadata": {
    "execution": {
     "iopub.execute_input": "2024-02-17T09:35:30.704409Z",
     "iopub.status.busy": "2024-02-17T09:35:30.703617Z",
     "iopub.status.idle": "2024-02-17T09:35:31.338641Z",
     "shell.execute_reply": "2024-02-17T09:35:31.337606Z"
    },
    "papermill": {
     "duration": 0.647801,
     "end_time": "2024-02-17T09:35:31.341243",
     "exception": false,
     "start_time": "2024-02-17T09:35:30.693442",
     "status": "completed"
    },
    "tags": []
   },
   "outputs": [
    {
     "name": "stderr",
     "output_type": "stream",
     "text": [
      "/tmp/ipykernel_19/2955030555.py:1: UserWarning: Could not infer format, so each element will be parsed individually, falling back to `dateutil`. To ensure parsing is consistent and as-expected, please specify a format.\n",
      "  final['time'] = pd.to_datetime(final['time'])\n"
     ]
    },
    {
     "data": {
      "text/html": [
       "<div>\n",
       "<style scoped>\n",
       "    .dataframe tbody tr th:only-of-type {\n",
       "        vertical-align: middle;\n",
       "    }\n",
       "\n",
       "    .dataframe tbody tr th {\n",
       "        vertical-align: top;\n",
       "    }\n",
       "\n",
       "    .dataframe thead th {\n",
       "        text-align: right;\n",
       "    }\n",
       "</style>\n",
       "<table border=\"1\" class=\"dataframe\">\n",
       "  <thead>\n",
       "    <tr style=\"text-align: right;\">\n",
       "      <th></th>\n",
       "      <th>order_details_id</th>\n",
       "      <th>order_id</th>\n",
       "      <th>pizza_id</th>\n",
       "      <th>quantity</th>\n",
       "      <th>date</th>\n",
       "      <th>time</th>\n",
       "      <th>pizza_type_id</th>\n",
       "      <th>size</th>\n",
       "      <th>price</th>\n",
       "      <th>name</th>\n",
       "      <th>category</th>\n",
       "      <th>ingredients</th>\n",
       "      <th>hour</th>\n",
       "    </tr>\n",
       "  </thead>\n",
       "  <tbody>\n",
       "    <tr>\n",
       "      <th>0</th>\n",
       "      <td>1</td>\n",
       "      <td>1</td>\n",
       "      <td>hawaiian_m</td>\n",
       "      <td>1</td>\n",
       "      <td>2015-01-01</td>\n",
       "      <td>2024-02-17 11:38:36</td>\n",
       "      <td>hawaiian</td>\n",
       "      <td>M</td>\n",
       "      <td>13.25</td>\n",
       "      <td>The Hawaiian Pizza</td>\n",
       "      <td>Classic</td>\n",
       "      <td>Sliced Ham, Pineapple, Mozzarella Cheese</td>\n",
       "      <td>11</td>\n",
       "    </tr>\n",
       "    <tr>\n",
       "      <th>1</th>\n",
       "      <td>2</td>\n",
       "      <td>2</td>\n",
       "      <td>classic_dlx_m</td>\n",
       "      <td>1</td>\n",
       "      <td>2015-01-01</td>\n",
       "      <td>2024-02-17 11:57:40</td>\n",
       "      <td>classic_dlx</td>\n",
       "      <td>M</td>\n",
       "      <td>16.00</td>\n",
       "      <td>The Classic Deluxe Pizza</td>\n",
       "      <td>Classic</td>\n",
       "      <td>Pepperoni, Mushrooms, Red Onions, Red Peppers,...</td>\n",
       "      <td>11</td>\n",
       "    </tr>\n",
       "    <tr>\n",
       "      <th>2</th>\n",
       "      <td>3</td>\n",
       "      <td>2</td>\n",
       "      <td>five_cheese_l</td>\n",
       "      <td>1</td>\n",
       "      <td>2015-01-01</td>\n",
       "      <td>2024-02-17 11:57:40</td>\n",
       "      <td>five_cheese</td>\n",
       "      <td>L</td>\n",
       "      <td>18.50</td>\n",
       "      <td>The Five Cheese Pizza</td>\n",
       "      <td>Veggie</td>\n",
       "      <td>Mozzarella Cheese, Provolone Cheese, Smoked Go...</td>\n",
       "      <td>11</td>\n",
       "    </tr>\n",
       "    <tr>\n",
       "      <th>3</th>\n",
       "      <td>4</td>\n",
       "      <td>2</td>\n",
       "      <td>ital_supr_l</td>\n",
       "      <td>1</td>\n",
       "      <td>2015-01-01</td>\n",
       "      <td>2024-02-17 11:57:40</td>\n",
       "      <td>ital_supr</td>\n",
       "      <td>L</td>\n",
       "      <td>20.75</td>\n",
       "      <td>The Italian Supreme Pizza</td>\n",
       "      <td>Supreme</td>\n",
       "      <td>Calabrese Salami, Capocollo, Tomatoes, Red Oni...</td>\n",
       "      <td>11</td>\n",
       "    </tr>\n",
       "    <tr>\n",
       "      <th>4</th>\n",
       "      <td>5</td>\n",
       "      <td>2</td>\n",
       "      <td>mexicana_m</td>\n",
       "      <td>1</td>\n",
       "      <td>2015-01-01</td>\n",
       "      <td>2024-02-17 11:57:40</td>\n",
       "      <td>mexicana</td>\n",
       "      <td>M</td>\n",
       "      <td>16.00</td>\n",
       "      <td>The Mexicana Pizza</td>\n",
       "      <td>Veggie</td>\n",
       "      <td>Tomatoes, Red Peppers, Jalapeno Peppers, Red O...</td>\n",
       "      <td>11</td>\n",
       "    </tr>\n",
       "    <tr>\n",
       "      <th>...</th>\n",
       "      <td>...</td>\n",
       "      <td>...</td>\n",
       "      <td>...</td>\n",
       "      <td>...</td>\n",
       "      <td>...</td>\n",
       "      <td>...</td>\n",
       "      <td>...</td>\n",
       "      <td>...</td>\n",
       "      <td>...</td>\n",
       "      <td>...</td>\n",
       "      <td>...</td>\n",
       "      <td>...</td>\n",
       "      <td>...</td>\n",
       "    </tr>\n",
       "    <tr>\n",
       "      <th>48615</th>\n",
       "      <td>48616</td>\n",
       "      <td>21348</td>\n",
       "      <td>ckn_alfredo_m</td>\n",
       "      <td>1</td>\n",
       "      <td>2015-12-31</td>\n",
       "      <td>2024-02-17 21:23:10</td>\n",
       "      <td>ckn_alfredo</td>\n",
       "      <td>M</td>\n",
       "      <td>16.75</td>\n",
       "      <td>The Chicken Alfredo Pizza</td>\n",
       "      <td>Chicken</td>\n",
       "      <td>Chicken, Red Onions, Red Peppers, Mushrooms, A...</td>\n",
       "      <td>21</td>\n",
       "    </tr>\n",
       "    <tr>\n",
       "      <th>48616</th>\n",
       "      <td>48617</td>\n",
       "      <td>21348</td>\n",
       "      <td>four_cheese_l</td>\n",
       "      <td>1</td>\n",
       "      <td>2015-12-31</td>\n",
       "      <td>2024-02-17 21:23:10</td>\n",
       "      <td>four_cheese</td>\n",
       "      <td>L</td>\n",
       "      <td>17.95</td>\n",
       "      <td>The Four Cheese Pizza</td>\n",
       "      <td>Veggie</td>\n",
       "      <td>Ricotta Cheese, Gorgonzola Piccante Cheese, Mo...</td>\n",
       "      <td>21</td>\n",
       "    </tr>\n",
       "    <tr>\n",
       "      <th>48617</th>\n",
       "      <td>48618</td>\n",
       "      <td>21348</td>\n",
       "      <td>napolitana_s</td>\n",
       "      <td>1</td>\n",
       "      <td>2015-12-31</td>\n",
       "      <td>2024-02-17 21:23:10</td>\n",
       "      <td>napolitana</td>\n",
       "      <td>S</td>\n",
       "      <td>12.00</td>\n",
       "      <td>The Napolitana Pizza</td>\n",
       "      <td>Classic</td>\n",
       "      <td>Tomatoes, Anchovies, Green Olives, Red Onions,...</td>\n",
       "      <td>21</td>\n",
       "    </tr>\n",
       "    <tr>\n",
       "      <th>48618</th>\n",
       "      <td>48619</td>\n",
       "      <td>21349</td>\n",
       "      <td>mexicana_l</td>\n",
       "      <td>1</td>\n",
       "      <td>2015-12-31</td>\n",
       "      <td>2024-02-17 22:09:54</td>\n",
       "      <td>mexicana</td>\n",
       "      <td>L</td>\n",
       "      <td>20.25</td>\n",
       "      <td>The Mexicana Pizza</td>\n",
       "      <td>Veggie</td>\n",
       "      <td>Tomatoes, Red Peppers, Jalapeno Peppers, Red O...</td>\n",
       "      <td>22</td>\n",
       "    </tr>\n",
       "    <tr>\n",
       "      <th>48619</th>\n",
       "      <td>48620</td>\n",
       "      <td>21350</td>\n",
       "      <td>bbq_ckn_s</td>\n",
       "      <td>1</td>\n",
       "      <td>2015-12-31</td>\n",
       "      <td>2024-02-17 23:02:05</td>\n",
       "      <td>bbq_ckn</td>\n",
       "      <td>S</td>\n",
       "      <td>12.75</td>\n",
       "      <td>The Barbecue Chicken Pizza</td>\n",
       "      <td>Chicken</td>\n",
       "      <td>Barbecued Chicken, Red Peppers, Green Peppers,...</td>\n",
       "      <td>23</td>\n",
       "    </tr>\n",
       "  </tbody>\n",
       "</table>\n",
       "<p>48620 rows × 13 columns</p>\n",
       "</div>"
      ],
      "text/plain": [
       "       order_details_id  order_id       pizza_id  quantity        date  \\\n",
       "0                     1         1     hawaiian_m         1  2015-01-01   \n",
       "1                     2         2  classic_dlx_m         1  2015-01-01   \n",
       "2                     3         2  five_cheese_l         1  2015-01-01   \n",
       "3                     4         2    ital_supr_l         1  2015-01-01   \n",
       "4                     5         2     mexicana_m         1  2015-01-01   \n",
       "...                 ...       ...            ...       ...         ...   \n",
       "48615             48616     21348  ckn_alfredo_m         1  2015-12-31   \n",
       "48616             48617     21348  four_cheese_l         1  2015-12-31   \n",
       "48617             48618     21348   napolitana_s         1  2015-12-31   \n",
       "48618             48619     21349     mexicana_l         1  2015-12-31   \n",
       "48619             48620     21350      bbq_ckn_s         1  2015-12-31   \n",
       "\n",
       "                     time pizza_type_id size  price  \\\n",
       "0     2024-02-17 11:38:36      hawaiian    M  13.25   \n",
       "1     2024-02-17 11:57:40   classic_dlx    M  16.00   \n",
       "2     2024-02-17 11:57:40   five_cheese    L  18.50   \n",
       "3     2024-02-17 11:57:40     ital_supr    L  20.75   \n",
       "4     2024-02-17 11:57:40      mexicana    M  16.00   \n",
       "...                   ...           ...  ...    ...   \n",
       "48615 2024-02-17 21:23:10   ckn_alfredo    M  16.75   \n",
       "48616 2024-02-17 21:23:10   four_cheese    L  17.95   \n",
       "48617 2024-02-17 21:23:10    napolitana    S  12.00   \n",
       "48618 2024-02-17 22:09:54      mexicana    L  20.25   \n",
       "48619 2024-02-17 23:02:05       bbq_ckn    S  12.75   \n",
       "\n",
       "                             name category  \\\n",
       "0              The Hawaiian Pizza  Classic   \n",
       "1        The Classic Deluxe Pizza  Classic   \n",
       "2           The Five Cheese Pizza   Veggie   \n",
       "3       The Italian Supreme Pizza  Supreme   \n",
       "4              The Mexicana Pizza   Veggie   \n",
       "...                           ...      ...   \n",
       "48615   The Chicken Alfredo Pizza  Chicken   \n",
       "48616       The Four Cheese Pizza   Veggie   \n",
       "48617        The Napolitana Pizza  Classic   \n",
       "48618          The Mexicana Pizza   Veggie   \n",
       "48619  The Barbecue Chicken Pizza  Chicken   \n",
       "\n",
       "                                             ingredients  hour  \n",
       "0               Sliced Ham, Pineapple, Mozzarella Cheese    11  \n",
       "1      Pepperoni, Mushrooms, Red Onions, Red Peppers,...    11  \n",
       "2      Mozzarella Cheese, Provolone Cheese, Smoked Go...    11  \n",
       "3      Calabrese Salami, Capocollo, Tomatoes, Red Oni...    11  \n",
       "4      Tomatoes, Red Peppers, Jalapeno Peppers, Red O...    11  \n",
       "...                                                  ...   ...  \n",
       "48615  Chicken, Red Onions, Red Peppers, Mushrooms, A...    21  \n",
       "48616  Ricotta Cheese, Gorgonzola Piccante Cheese, Mo...    21  \n",
       "48617  Tomatoes, Anchovies, Green Olives, Red Onions,...    21  \n",
       "48618  Tomatoes, Red Peppers, Jalapeno Peppers, Red O...    22  \n",
       "48619  Barbecued Chicken, Red Peppers, Green Peppers,...    23  \n",
       "\n",
       "[48620 rows x 13 columns]"
      ]
     },
     "execution_count": 15,
     "metadata": {},
     "output_type": "execute_result"
    }
   ],
   "source": [
    " \n",
    "final['time'] = pd.to_datetime(final['time'])\n",
    "final['hour'] = final['time'].dt.hour\n",
    "final"
   ]
  },
  {
   "cell_type": "code",
   "execution_count": 16,
   "id": "5146deba",
   "metadata": {
    "execution": {
     "iopub.execute_input": "2024-02-17T09:35:31.361949Z",
     "iopub.status.busy": "2024-02-17T09:35:31.361538Z",
     "iopub.status.idle": "2024-02-17T09:35:31.684257Z",
     "shell.execute_reply": "2024-02-17T09:35:31.683159Z"
    },
    "papermill": {
     "duration": 0.336049,
     "end_time": "2024-02-17T09:35:31.686794",
     "exception": false,
     "start_time": "2024-02-17T09:35:31.350745",
     "status": "completed"
    },
    "tags": []
   },
   "outputs": [
    {
     "data": {
      "image/png": "[encoded data removed]",
      "text/plain": [
       "<Figure size 1200x500 with 1 Axes>"
      ]
     },
     "metadata": {},
     "output_type": "display_data"
    }
   ],
   "source": [
    "hour= final.groupby([\"hour\"])[\"order_id\"].nunique().reset_index()\n",
    "\n",
    "plt.figure(figsize=(12, 5))\n",
    "sns.barplot(x='hour', y='order_id', data=hour)\n",
    "plt.title('Number of Unique Orders by Hour')\n",
    "plt.xlabel('Hour')\n",
    "plt.ylabel('Number of Unique Orders')\n",
    "plt.show()"
   ]
  },
  {
   "cell_type": "code",
   "execution_count": 17,
   "id": "69ed16c0",
   "metadata": {
    "execution": {
     "iopub.execute_input": "2024-02-17T09:35:31.708279Z",
     "iopub.status.busy": "2024-02-17T09:35:31.707875Z",
     "iopub.status.idle": "2024-02-17T09:35:31.953989Z",
     "shell.execute_reply": "2024-02-17T09:35:31.953003Z"
    },
    "papermill": {
     "duration": 0.260397,
     "end_time": "2024-02-17T09:35:31.956956",
     "exception": false,
     "start_time": "2024-02-17T09:35:31.696559",
     "status": "completed"
    },
    "tags": []
   },
   "outputs": [
    {
     "data": {
      "image/png": "[encoded data removed]",
      "text/plain": [
       "<Figure size 1200x500 with 1 Axes>"
      ]
     },
     "metadata": {},
     "output_type": "display_data"
    }
   ],
   "source": [
    "day=final.groupby([\"date\"])[\"order_id\"].nunique()\n",
    "plt.figure(figsize=(12, 5))\n",
    "day.plot()\n",
    "plt.title('Number of Unique Orders per Day')\n",
    "plt.xlabel('Date')\n",
    "plt.ylabel('Number of Unique Orders')\n",
    "plt.show()\n"
   ]
  },
  {
   "cell_type": "code",
   "execution_count": 18,
   "id": "9ba30981",
   "metadata": {
    "execution": {
     "iopub.execute_input": "2024-02-17T09:35:31.983503Z",
     "iopub.status.busy": "2024-02-17T09:35:31.982528Z",
     "iopub.status.idle": "2024-02-17T09:35:31.998795Z",
     "shell.execute_reply": "2024-02-17T09:35:31.997476Z"
    },
    "papermill": {
     "duration": 0.032418,
     "end_time": "2024-02-17T09:35:32.001096",
     "exception": false,
     "start_time": "2024-02-17T09:35:31.968678",
     "status": "completed"
    },
    "tags": []
   },
   "outputs": [
    {
     "data": {
      "text/plain": [
       "60.0"
      ]
     },
     "execution_count": 18,
     "metadata": {},
     "output_type": "execute_result"
    }
   ],
   "source": [
    "mean=final.groupby([\"date\"])[\"order_id\"].nunique().mean().round()\n",
    "mean"
   ]
  },
  {
   "cell_type": "markdown",
   "id": "30e21c1e",
   "metadata": {
    "papermill": {
     "duration": 0.011647,
     "end_time": "2024-02-17T09:35:32.024897",
     "exception": false,
     "start_time": "2024-02-17T09:35:32.013250",
     "status": "completed"
    },
    "tags": []
   },
   "source": [
    "#### **2.How many pizzas are typically in order? Do we have any bestsellers?**"
   ]
  },
  {
   "cell_type": "code",
   "execution_count": 19,
   "id": "e83efca5",
   "metadata": {
    "execution": {
     "iopub.execute_input": "2024-02-17T09:35:32.049482Z",
     "iopub.status.busy": "2024-02-17T09:35:32.048854Z",
     "iopub.status.idle": "2024-02-17T09:35:32.067135Z",
     "shell.execute_reply": "2024-02-17T09:35:32.066011Z"
    },
    "papermill": {
     "duration": 0.033186,
     "end_time": "2024-02-17T09:35:32.069267",
     "exception": false,
     "start_time": "2024-02-17T09:35:32.036081",
     "status": "completed"
    },
    "tags": []
   },
   "outputs": [
    {
     "data": {
      "text/plain": [
       "2.2036894348003444"
      ]
     },
     "execution_count": 19,
     "metadata": {},
     "output_type": "execute_result"
    }
   ],
   "source": [
    "order=final.groupby([\"order_id\"])[\"quantity\"].value_counts().mean()\n",
    "order"
   ]
  },
  {
   "cell_type": "code",
   "execution_count": 20,
   "id": "a3fa516d",
   "metadata": {
    "execution": {
     "iopub.execute_input": "2024-02-17T09:35:32.093774Z",
     "iopub.status.busy": "2024-02-17T09:35:32.093136Z",
     "iopub.status.idle": "2024-02-17T09:35:32.338769Z",
     "shell.execute_reply": "2024-02-17T09:35:32.337642Z"
    },
    "papermill": {
     "duration": 0.260807,
     "end_time": "2024-02-17T09:35:32.341246",
     "exception": false,
     "start_time": "2024-02-17T09:35:32.080439",
     "status": "completed"
    },
    "tags": []
   },
   "outputs": [
    {
     "data": {
      "image/png": "[encoded data removed]",
      "text/plain": [
       "<Figure size 1200x500 with 1 Axes>"
      ]
     },
     "metadata": {},
     "output_type": "display_data"
    },
    {
     "data": {
      "text/plain": [
       "pizza_id\n",
       "bbq_ckn_m         926\n",
       "bbq_ckn_l         967\n",
       "southw_ckn_l      993\n",
       "hawaiian_s       1001\n",
       "spicy_ital_l     1088\n",
       "classic_dlx_m    1159\n",
       "four_cheese_l    1273\n",
       "five_cheese_l    1359\n",
       "thai_ckn_l       1365\n",
       "big_meat_s       1811\n",
       "Name: count, dtype: int64"
      ]
     },
     "execution_count": 20,
     "metadata": {},
     "output_type": "execute_result"
    }
   ],
   "source": [
    "seller=final.pizza_id.value_counts().head(10).sort_values(ascending=True)\n",
    "plt.figure(figsize=(12, 5))\n",
    "colors = sns.color_palette('husl', 10)\n",
    "seller.plot(kind=\"barh\",color=colors)\n",
    "plt.title('Top 10 seller')\n",
    "plt.xlabel('pizza')\n",
    "plt.ylabel('Number of pizzas sold')\n",
    "plt.show()\n",
    "seller"
   ]
  },
  {
   "cell_type": "markdown",
   "id": "70cb42a1",
   "metadata": {
    "papermill": {
     "duration": 0.011578,
     "end_time": "2024-02-17T09:35:32.364659",
     "exception": false,
     "start_time": "2024-02-17T09:35:32.353081",
     "status": "completed"
    },
    "tags": []
   },
   "source": [
    "#### **3.How much money did we make this year? Can we identify any seasonality in the sales?**"
   ]
  },
  {
   "cell_type": "code",
   "execution_count": 21,
   "id": "23a61e8c",
   "metadata": {
    "execution": {
     "iopub.execute_input": "2024-02-17T09:35:32.391368Z",
     "iopub.status.busy": "2024-02-17T09:35:32.390686Z",
     "iopub.status.idle": "2024-02-17T09:35:32.660696Z",
     "shell.execute_reply": "2024-02-17T09:35:32.659648Z"
    },
    "papermill": {
     "duration": 0.286737,
     "end_time": "2024-02-17T09:35:32.663241",
     "exception": false,
     "start_time": "2024-02-17T09:35:32.376504",
     "status": "completed"
    },
    "tags": []
   },
   "outputs": [],
   "source": [
    "final['date'] = pd.to_datetime(final['date'])\n",
    "final['month_name'] = final['date'].dt.strftime('%B')\n",
    "\n",
    " "
   ]
  },
  {
   "cell_type": "code",
   "execution_count": 22,
   "id": "be384416",
   "metadata": {
    "execution": {
     "iopub.execute_input": "2024-02-17T09:35:32.689250Z",
     "iopub.status.busy": "2024-02-17T09:35:32.688869Z",
     "iopub.status.idle": "2024-02-17T09:35:32.701556Z",
     "shell.execute_reply": "2024-02-17T09:35:32.700679Z"
    },
    "papermill": {
     "duration": 0.028498,
     "end_time": "2024-02-17T09:35:32.703862",
     "exception": false,
     "start_time": "2024-02-17T09:35:32.675364",
     "status": "completed"
    },
    "tags": []
   },
   "outputs": [],
   "source": [
    "season_mapping = {'January': 'Winter','February': 'Winter','March': 'Spring', 'April': 'Spring', 'May': 'Spring', 'June': 'Summer', 'July': 'Summer', 'August': 'Summer','September': 'Fall','October': 'Fall','November': 'Fall','December': 'Winter'}\n",
    "final['season'] = final['month_name'].map(season_mapping)"
   ]
  },
  {
   "cell_type": "code",
   "execution_count": 23,
   "id": "30b006e2",
   "metadata": {
    "execution": {
     "iopub.execute_input": "2024-02-17T09:35:32.729900Z",
     "iopub.status.busy": "2024-02-17T09:35:32.729483Z",
     "iopub.status.idle": "2024-02-17T09:35:32.736679Z",
     "shell.execute_reply": "2024-02-17T09:35:32.735577Z"
    },
    "papermill": {
     "duration": 0.022792,
     "end_time": "2024-02-17T09:35:32.738802",
     "exception": false,
     "start_time": "2024-02-17T09:35:32.716010",
     "status": "completed"
    },
    "tags": []
   },
   "outputs": [
    {
     "data": {
      "text/plain": [
       "801944.7000000001"
      ]
     },
     "execution_count": 23,
     "metadata": {},
     "output_type": "execute_result"
    }
   ],
   "source": [
    "money=final.price.sum()\n",
    "money"
   ]
  },
  {
   "cell_type": "code",
   "execution_count": 24,
   "id": "b96c2ced",
   "metadata": {
    "execution": {
     "iopub.execute_input": "2024-02-17T09:35:32.765802Z",
     "iopub.status.busy": "2024-02-17T09:35:32.765246Z",
     "iopub.status.idle": "2024-02-17T09:35:32.897804Z",
     "shell.execute_reply": "2024-02-17T09:35:32.896980Z"
    },
    "papermill": {
     "duration": 0.148611,
     "end_time": "2024-02-17T09:35:32.900145",
     "exception": false,
     "start_time": "2024-02-17T09:35:32.751534",
     "status": "completed"
    },
    "tags": []
   },
   "outputs": [
    {
     "data": {
      "image/png": "[encoded data removed]",
      "text/plain": [
       "<Figure size 640x480 with 1 Axes>"
      ]
     },
     "metadata": {},
     "output_type": "display_data"
    },
    {
     "data": {
      "text/plain": [
       "season\n",
       "Fall      194638.50\n",
       "Spring    206423.55\n",
       "Summer    204892.55\n",
       "Winter    195990.10\n",
       "Name: price, dtype: float64"
      ]
     },
     "execution_count": 24,
     "metadata": {},
     "output_type": "execute_result"
    }
   ],
   "source": [
    "sesion=final.groupby([\"season\"])[\"price\"].sum()\n",
    "sesion.plot(kind=\"pie\",x=\"sesion\",autopct='%1.1f%%', startangle=90)\n",
    "plt.title(\"Total Sales by Season\")\n",
    "plt.ylabel(\"\")\n",
    "plt.show()\n",
    "sesion"
   ]
  },
  {
   "cell_type": "markdown",
   "id": "71b9e39b",
   "metadata": {
    "papermill": {
     "duration": 0.01269,
     "end_time": "2024-02-17T09:35:32.925522",
     "exception": false,
     "start_time": "2024-02-17T09:35:32.912832",
     "status": "completed"
    },
    "tags": []
   },
   "source": [
    "### **3.Are there any pizzas we should take off the menu, or any promotions we could leverage?**"
   ]
  },
  {
   "cell_type": "code",
   "execution_count": 25,
   "id": "4a4999e8",
   "metadata": {
    "execution": {
     "iopub.execute_input": "2024-02-17T09:35:32.953726Z",
     "iopub.status.busy": "2024-02-17T09:35:32.953030Z",
     "iopub.status.idle": "2024-02-17T09:35:33.165512Z",
     "shell.execute_reply": "2024-02-17T09:35:33.164315Z"
    },
    "papermill": {
     "duration": 0.229216,
     "end_time": "2024-02-17T09:35:33.167811",
     "exception": false,
     "start_time": "2024-02-17T09:35:32.938595",
     "status": "completed"
    },
    "tags": []
   },
   "outputs": [
    {
     "data": {
      "image/png": "[encoded data removed]",
      "text/plain": [
       "<Figure size 1200x500 with 1 Axes>"
      ]
     },
     "metadata": {},
     "output_type": "display_data"
    },
    {
     "data": {
      "text/plain": [
       "pizza_id\n",
       "the_greek_xxl      28\n",
       "green_garden_l     94\n",
       "ckn_alfredo_s      96\n",
       "calabrese_s        99\n",
       "mexicana_s        160\n",
       "Name: count, dtype: int64"
      ]
     },
     "execution_count": 25,
     "metadata": {},
     "output_type": "execute_result"
    }
   ],
   "source": [
    "seller1=final.pizza_id.value_counts().tail(5).sort_values(ascending=True)\n",
    "plt.figure(figsize=(12, 5))\n",
    "colors = sns.color_palette('husl', 10)\n",
    "seller1.plot(kind=\"barh\",color=colors)\n",
    "plt.title('Top 10 seller')\n",
    "plt.xlabel('pizza')\n",
    "plt.ylabel('Number of pizzas sold')\n",
    "plt.show()\n",
    "seller1"
   ]
  },
  {
   "cell_type": "markdown",
   "id": "48d557fb",
   "metadata": {
    "papermill": {
     "duration": 0.012818,
     "end_time": "2024-02-17T09:35:33.193749",
     "exception": false,
     "start_time": "2024-02-17T09:35:33.180931",
     "status": "completed"
    },
    "tags": []
   },
   "source": [
    "**..............................................................................................................................................................................................................................................................**"
   ]
  },
  {
   "cell_type": "code",
   "execution_count": 26,
   "id": "291b0b9f",
   "metadata": {
    "execution": {
     "iopub.execute_input": "2024-02-17T09:35:33.222772Z",
     "iopub.status.busy": "2024-02-17T09:35:33.221995Z",
     "iopub.status.idle": "2024-02-17T09:35:33.506530Z",
     "shell.execute_reply": "2024-02-17T09:35:33.505240Z"
    },
    "papermill": {
     "duration": 0.302827,
     "end_time": "2024-02-17T09:35:33.509671",
     "exception": false,
     "start_time": "2024-02-17T09:35:33.206844",
     "status": "completed"
    },
    "tags": []
   },
   "outputs": [
    {
     "data": {
      "image/png": "[encoded data removed]",
      "text/plain": [
       "<Figure size 1200x500 with 1 Axes>"
      ]
     },
     "metadata": {},
     "output_type": "display_data"
    }
   ],
   "source": [
    "day1=final.groupby([\"date\"])[\"price\"].sum()\n",
    "plt.figure(figsize=(12, 5))\n",
    "day1.plot()\n",
    "plt.title('profits by day ')\n",
    "plt.xlabel('Date')\n",
    "plt.ylabel('profits')\n",
    "plt.show()\n"
   ]
  },
  {
   "cell_type": "code",
   "execution_count": 27,
   "id": "9e3f89f3",
   "metadata": {
    "execution": {
     "iopub.execute_input": "2024-02-17T09:35:33.540769Z",
     "iopub.status.busy": "2024-02-17T09:35:33.540371Z",
     "iopub.status.idle": "2024-02-17T09:35:34.272764Z",
     "shell.execute_reply": "2024-02-17T09:35:34.271118Z"
    },
    "papermill": {
     "duration": 0.750838,
     "end_time": "2024-02-17T09:35:34.274931",
     "exception": true,
     "start_time": "2024-02-17T09:35:33.524093",
     "status": "failed"
    },
    "tags": []
   },
   "outputs": [
    {
     "ename": "ValueError",
     "evalue": "Could not interpret value `month` for parameter `x`",
     "output_type": "error",
     "traceback": [
      "\u001b[0;31m---------------------------------------------------------------------------\u001b[0m",
      "\u001b[0;31mValueError\u001b[0m                                Traceback (most recent call last)",
      "Cell \u001b[0;32mIn[27], line 4\u001b[0m\n\u001b[1;32m      2\u001b[0m sns\u001b[38;5;241m.\u001b[39mset(style\u001b[38;5;241m=\u001b[39m\u001b[38;5;124m\"\u001b[39m\u001b[38;5;124mwhitegrid\u001b[39m\u001b[38;5;124m\"\u001b[39m)\n\u001b[1;32m      3\u001b[0m plt\u001b[38;5;241m.\u001b[39mfigure(figsize\u001b[38;5;241m=\u001b[39m(\u001b[38;5;241m12\u001b[39m, \u001b[38;5;241m5\u001b[39m))\n\u001b[0;32m----> 4\u001b[0m \u001b[43msns\u001b[49m\u001b[38;5;241;43m.\u001b[39;49m\u001b[43mlineplot\u001b[49m\u001b[43m(\u001b[49m\u001b[43mx\u001b[49m\u001b[38;5;241;43m=\u001b[39;49m\u001b[38;5;124;43m'\u001b[39;49m\u001b[38;5;124;43mmonth\u001b[39;49m\u001b[38;5;124;43m'\u001b[39;49m\u001b[43m,\u001b[49m\u001b[43m \u001b[49m\u001b[43my\u001b[49m\u001b[38;5;241;43m=\u001b[39;49m\u001b[38;5;124;43m'\u001b[39;49m\u001b[38;5;124;43mprice\u001b[39;49m\u001b[38;5;124;43m'\u001b[39;49m\u001b[43m,\u001b[49m\u001b[43m \u001b[49m\u001b[43mdata\u001b[49m\u001b[38;5;241;43m=\u001b[39;49m\u001b[43mfinal\u001b[49m\u001b[43m,\u001b[49m\u001b[43m \u001b[49m\u001b[43mmarker\u001b[49m\u001b[38;5;241;43m=\u001b[39;49m\u001b[38;5;124;43m'\u001b[39;49m\u001b[38;5;124;43mo\u001b[39;49m\u001b[38;5;124;43m'\u001b[39;49m\u001b[43m)\u001b[49m\n\u001b[1;32m      5\u001b[0m plt\u001b[38;5;241m.\u001b[39mtitle(\u001b[38;5;124m'\u001b[39m\u001b[38;5;124mProfits by Month\u001b[39m\u001b[38;5;124m'\u001b[39m)\n\u001b[1;32m      6\u001b[0m plt\u001b[38;5;241m.\u001b[39mxlabel(\u001b[38;5;124m'\u001b[39m\u001b[38;5;124mMonth\u001b[39m\u001b[38;5;124m'\u001b[39m)\n",
      "File \u001b[0;32m/opt/conda/lib/python3.10/site-packages/seaborn/relational.py:618\u001b[0m, in \u001b[0;36mlineplot\u001b[0;34m(data, x, y, hue, size, style, units, palette, hue_order, hue_norm, sizes, size_order, size_norm, dashes, markers, style_order, estimator, errorbar, n_boot, seed, orient, sort, err_style, err_kws, legend, ci, ax, **kwargs)\u001b[0m\n\u001b[1;32m    615\u001b[0m errorbar \u001b[38;5;241m=\u001b[39m _deprecate_ci(errorbar, ci)\n\u001b[1;32m    617\u001b[0m variables \u001b[38;5;241m=\u001b[39m _LinePlotter\u001b[38;5;241m.\u001b[39mget_semantics(\u001b[38;5;28mlocals\u001b[39m())\n\u001b[0;32m--> 618\u001b[0m p \u001b[38;5;241m=\u001b[39m \u001b[43m_LinePlotter\u001b[49m\u001b[43m(\u001b[49m\n\u001b[1;32m    619\u001b[0m \u001b[43m    \u001b[49m\u001b[43mdata\u001b[49m\u001b[38;5;241;43m=\u001b[39;49m\u001b[43mdata\u001b[49m\u001b[43m,\u001b[49m\u001b[43m \u001b[49m\u001b[43mvariables\u001b[49m\u001b[38;5;241;43m=\u001b[39;49m\u001b[43mvariables\u001b[49m\u001b[43m,\u001b[49m\n\u001b[1;32m    620\u001b[0m \u001b[43m    \u001b[49m\u001b[43mestimator\u001b[49m\u001b[38;5;241;43m=\u001b[39;49m\u001b[43mestimator\u001b[49m\u001b[43m,\u001b[49m\u001b[43m \u001b[49m\u001b[43mn_boot\u001b[49m\u001b[38;5;241;43m=\u001b[39;49m\u001b[43mn_boot\u001b[49m\u001b[43m,\u001b[49m\u001b[43m \u001b[49m\u001b[43mseed\u001b[49m\u001b[38;5;241;43m=\u001b[39;49m\u001b[43mseed\u001b[49m\u001b[43m,\u001b[49m\u001b[43m \u001b[49m\u001b[43merrorbar\u001b[49m\u001b[38;5;241;43m=\u001b[39;49m\u001b[43merrorbar\u001b[49m\u001b[43m,\u001b[49m\n\u001b[1;32m    621\u001b[0m \u001b[43m    \u001b[49m\u001b[43msort\u001b[49m\u001b[38;5;241;43m=\u001b[39;49m\u001b[43msort\u001b[49m\u001b[43m,\u001b[49m\u001b[43m \u001b[49m\u001b[43morient\u001b[49m\u001b[38;5;241;43m=\u001b[39;49m\u001b[43morient\u001b[49m\u001b[43m,\u001b[49m\u001b[43m \u001b[49m\u001b[43merr_style\u001b[49m\u001b[38;5;241;43m=\u001b[39;49m\u001b[43merr_style\u001b[49m\u001b[43m,\u001b[49m\u001b[43m \u001b[49m\u001b[43merr_kws\u001b[49m\u001b[38;5;241;43m=\u001b[39;49m\u001b[43merr_kws\u001b[49m\u001b[43m,\u001b[49m\n\u001b[1;32m    622\u001b[0m \u001b[43m    \u001b[49m\u001b[43mlegend\u001b[49m\u001b[38;5;241;43m=\u001b[39;49m\u001b[43mlegend\u001b[49m\u001b[43m,\u001b[49m\n\u001b[1;32m    623\u001b[0m \u001b[43m\u001b[49m\u001b[43m)\u001b[49m\n\u001b[1;32m    625\u001b[0m p\u001b[38;5;241m.\u001b[39mmap_hue(palette\u001b[38;5;241m=\u001b[39mpalette, order\u001b[38;5;241m=\u001b[39mhue_order, norm\u001b[38;5;241m=\u001b[39mhue_norm)\n\u001b[1;32m    626\u001b[0m p\u001b[38;5;241m.\u001b[39mmap_size(sizes\u001b[38;5;241m=\u001b[39msizes, order\u001b[38;5;241m=\u001b[39msize_order, norm\u001b[38;5;241m=\u001b[39msize_norm)\n",
      "File \u001b[0;32m/opt/conda/lib/python3.10/site-packages/seaborn/relational.py:365\u001b[0m, in \u001b[0;36m_LinePlotter.__init__\u001b[0;34m(self, data, variables, estimator, n_boot, seed, errorbar, sort, orient, err_style, err_kws, legend)\u001b[0m\n\u001b[1;32m    351\u001b[0m \u001b[38;5;28;01mdef\u001b[39;00m \u001b[38;5;21m__init__\u001b[39m(\n\u001b[1;32m    352\u001b[0m     \u001b[38;5;28mself\u001b[39m, \u001b[38;5;241m*\u001b[39m,\n\u001b[1;32m    353\u001b[0m     data\u001b[38;5;241m=\u001b[39m\u001b[38;5;28;01mNone\u001b[39;00m, variables\u001b[38;5;241m=\u001b[39m{},\n\u001b[0;32m   (...)\u001b[0m\n\u001b[1;32m    359\u001b[0m     \u001b[38;5;66;03m# the kind of plot to draw, but for the time being we need to set\u001b[39;00m\n\u001b[1;32m    360\u001b[0m     \u001b[38;5;66;03m# this information so the SizeMapping can use it\u001b[39;00m\n\u001b[1;32m    361\u001b[0m     \u001b[38;5;28mself\u001b[39m\u001b[38;5;241m.\u001b[39m_default_size_range \u001b[38;5;241m=\u001b[39m (\n\u001b[1;32m    362\u001b[0m         np\u001b[38;5;241m.\u001b[39mr_[\u001b[38;5;241m.5\u001b[39m, \u001b[38;5;241m2\u001b[39m] \u001b[38;5;241m*\u001b[39m mpl\u001b[38;5;241m.\u001b[39mrcParams[\u001b[38;5;124m\"\u001b[39m\u001b[38;5;124mlines.linewidth\u001b[39m\u001b[38;5;124m\"\u001b[39m]\n\u001b[1;32m    363\u001b[0m     )\n\u001b[0;32m--> 365\u001b[0m     \u001b[38;5;28;43msuper\u001b[39;49m\u001b[43m(\u001b[49m\u001b[43m)\u001b[49m\u001b[38;5;241;43m.\u001b[39;49m\u001b[38;5;21;43m__init__\u001b[39;49m\u001b[43m(\u001b[49m\u001b[43mdata\u001b[49m\u001b[38;5;241;43m=\u001b[39;49m\u001b[43mdata\u001b[49m\u001b[43m,\u001b[49m\u001b[43m \u001b[49m\u001b[43mvariables\u001b[49m\u001b[38;5;241;43m=\u001b[39;49m\u001b[43mvariables\u001b[49m\u001b[43m)\u001b[49m\n\u001b[1;32m    367\u001b[0m     \u001b[38;5;28mself\u001b[39m\u001b[38;5;241m.\u001b[39mestimator \u001b[38;5;241m=\u001b[39m estimator\n\u001b[1;32m    368\u001b[0m     \u001b[38;5;28mself\u001b[39m\u001b[38;5;241m.\u001b[39merrorbar \u001b[38;5;241m=\u001b[39m errorbar\n",
      "File \u001b[0;32m/opt/conda/lib/python3.10/site-packages/seaborn/_oldcore.py:640\u001b[0m, in \u001b[0;36mVectorPlotter.__init__\u001b[0;34m(self, data, variables)\u001b[0m\n\u001b[1;32m    635\u001b[0m \u001b[38;5;66;03m# var_ordered is relevant only for categorical axis variables, and may\u001b[39;00m\n\u001b[1;32m    636\u001b[0m \u001b[38;5;66;03m# be better handled by an internal axis information object that tracks\u001b[39;00m\n\u001b[1;32m    637\u001b[0m \u001b[38;5;66;03m# such information and is set up by the scale_* methods. The analogous\u001b[39;00m\n\u001b[1;32m    638\u001b[0m \u001b[38;5;66;03m# information for numeric axes would be information about log scales.\u001b[39;00m\n\u001b[1;32m    639\u001b[0m \u001b[38;5;28mself\u001b[39m\u001b[38;5;241m.\u001b[39m_var_ordered \u001b[38;5;241m=\u001b[39m {\u001b[38;5;124m\"\u001b[39m\u001b[38;5;124mx\u001b[39m\u001b[38;5;124m\"\u001b[39m: \u001b[38;5;28;01mFalse\u001b[39;00m, \u001b[38;5;124m\"\u001b[39m\u001b[38;5;124my\u001b[39m\u001b[38;5;124m\"\u001b[39m: \u001b[38;5;28;01mFalse\u001b[39;00m}  \u001b[38;5;66;03m# alt., used DefaultDict\u001b[39;00m\n\u001b[0;32m--> 640\u001b[0m \u001b[38;5;28;43mself\u001b[39;49m\u001b[38;5;241;43m.\u001b[39;49m\u001b[43massign_variables\u001b[49m\u001b[43m(\u001b[49m\u001b[43mdata\u001b[49m\u001b[43m,\u001b[49m\u001b[43m \u001b[49m\u001b[43mvariables\u001b[49m\u001b[43m)\u001b[49m\n\u001b[1;32m    642\u001b[0m \u001b[38;5;28;01mfor\u001b[39;00m var, \u001b[38;5;28mcls\u001b[39m \u001b[38;5;129;01min\u001b[39;00m \u001b[38;5;28mself\u001b[39m\u001b[38;5;241m.\u001b[39m_semantic_mappings\u001b[38;5;241m.\u001b[39mitems():\n\u001b[1;32m    643\u001b[0m \n\u001b[1;32m    644\u001b[0m     \u001b[38;5;66;03m# Create the mapping function\u001b[39;00m\n\u001b[1;32m    645\u001b[0m     map_func \u001b[38;5;241m=\u001b[39m partial(\u001b[38;5;28mcls\u001b[39m\u001b[38;5;241m.\u001b[39mmap, plotter\u001b[38;5;241m=\u001b[39m\u001b[38;5;28mself\u001b[39m)\n",
      "File \u001b[0;32m/opt/conda/lib/python3.10/site-packages/seaborn/_oldcore.py:701\u001b[0m, in \u001b[0;36mVectorPlotter.assign_variables\u001b[0;34m(self, data, variables)\u001b[0m\n\u001b[1;32m    699\u001b[0m \u001b[38;5;28;01melse\u001b[39;00m:\n\u001b[1;32m    700\u001b[0m     \u001b[38;5;28mself\u001b[39m\u001b[38;5;241m.\u001b[39minput_format \u001b[38;5;241m=\u001b[39m \u001b[38;5;124m\"\u001b[39m\u001b[38;5;124mlong\u001b[39m\u001b[38;5;124m\"\u001b[39m\n\u001b[0;32m--> 701\u001b[0m     plot_data, variables \u001b[38;5;241m=\u001b[39m \u001b[38;5;28;43mself\u001b[39;49m\u001b[38;5;241;43m.\u001b[39;49m\u001b[43m_assign_variables_longform\u001b[49m\u001b[43m(\u001b[49m\n\u001b[1;32m    702\u001b[0m \u001b[43m        \u001b[49m\u001b[43mdata\u001b[49m\u001b[43m,\u001b[49m\u001b[43m \u001b[49m\u001b[38;5;241;43m*\u001b[39;49m\u001b[38;5;241;43m*\u001b[39;49m\u001b[43mvariables\u001b[49m\u001b[43m,\u001b[49m\n\u001b[1;32m    703\u001b[0m \u001b[43m    \u001b[49m\u001b[43m)\u001b[49m\n\u001b[1;32m    705\u001b[0m \u001b[38;5;28mself\u001b[39m\u001b[38;5;241m.\u001b[39mplot_data \u001b[38;5;241m=\u001b[39m plot_data\n\u001b[1;32m    706\u001b[0m \u001b[38;5;28mself\u001b[39m\u001b[38;5;241m.\u001b[39mvariables \u001b[38;5;241m=\u001b[39m variables\n",
      "File \u001b[0;32m/opt/conda/lib/python3.10/site-packages/seaborn/_oldcore.py:938\u001b[0m, in \u001b[0;36mVectorPlotter._assign_variables_longform\u001b[0;34m(self, data, **kwargs)\u001b[0m\n\u001b[1;32m    933\u001b[0m \u001b[38;5;28;01melif\u001b[39;00m \u001b[38;5;28misinstance\u001b[39m(val, (\u001b[38;5;28mstr\u001b[39m, \u001b[38;5;28mbytes\u001b[39m)):\n\u001b[1;32m    934\u001b[0m \n\u001b[1;32m    935\u001b[0m     \u001b[38;5;66;03m# This looks like a column name but we don't know what it means!\u001b[39;00m\n\u001b[1;32m    937\u001b[0m     err \u001b[38;5;241m=\u001b[39m \u001b[38;5;124mf\u001b[39m\u001b[38;5;124m\"\u001b[39m\u001b[38;5;124mCould not interpret value `\u001b[39m\u001b[38;5;132;01m{\u001b[39;00mval\u001b[38;5;132;01m}\u001b[39;00m\u001b[38;5;124m` for parameter `\u001b[39m\u001b[38;5;132;01m{\u001b[39;00mkey\u001b[38;5;132;01m}\u001b[39;00m\u001b[38;5;124m`\u001b[39m\u001b[38;5;124m\"\u001b[39m\n\u001b[0;32m--> 938\u001b[0m     \u001b[38;5;28;01mraise\u001b[39;00m \u001b[38;5;167;01mValueError\u001b[39;00m(err)\n\u001b[1;32m    940\u001b[0m \u001b[38;5;28;01melse\u001b[39;00m:\n\u001b[1;32m    941\u001b[0m \n\u001b[1;32m    942\u001b[0m     \u001b[38;5;66;03m# Otherwise, assume the value is itself data\u001b[39;00m\n\u001b[1;32m    943\u001b[0m \n\u001b[1;32m    944\u001b[0m     \u001b[38;5;66;03m# Raise when data object is present and a vector can't matched\u001b[39;00m\n\u001b[1;32m    945\u001b[0m     \u001b[38;5;28;01mif\u001b[39;00m \u001b[38;5;28misinstance\u001b[39m(data, pd\u001b[38;5;241m.\u001b[39mDataFrame) \u001b[38;5;129;01mand\u001b[39;00m \u001b[38;5;129;01mnot\u001b[39;00m \u001b[38;5;28misinstance\u001b[39m(val, pd\u001b[38;5;241m.\u001b[39mSeries):\n",
      "\u001b[0;31mValueError\u001b[0m: Could not interpret value `month` for parameter `x`"
     ]
    },
    {
     "data": {
      "text/plain": [
       "<Figure size 1200x500 with 0 Axes>"
      ]
     },
     "metadata": {},
     "output_type": "display_data"
    }
   ],
   "source": [
    " monthly_sum = final.groupby(\"month_name\")[\"price\"].sum().reset_index()\n",
    "sns.set(style=\"whitegrid\")\n",
    "plt.figure(figsize=(12, 5))\n",
    "sns.lineplot(x='month', y='price', data=final, marker='o')\n",
    "plt.title('Profits by Month')\n",
    "plt.xlabel('Month')\n",
    "plt.ylabel('Profits')\n",
    "plt.show()"
   ]
  },
  {
   "cell_type": "code",
   "execution_count": null,
   "id": "78705d0c",
   "metadata": {
    "execution": {
     "iopub.execute_input": "2024-02-17T09:33:11.266680Z",
     "iopub.status.busy": "2024-02-17T09:33:11.266132Z",
     "iopub.status.idle": "2024-02-17T09:33:11.302464Z",
     "shell.execute_reply": "2024-02-17T09:33:11.301344Z",
     "shell.execute_reply.started": "2024-02-17T09:33:11.266638Z"
    },
    "papermill": {
     "duration": null,
     "end_time": null,
     "exception": null,
     "start_time": null,
     "status": "pending"
    },
    "tags": []
   },
   "outputs": [],
   "source": [
    "final"
   ]
  }
 ],
 "metadata": {
  "kaggle": {
   "accelerator": "none",
   "dataSources": [
    {
     "datasetId": 2515860,
     "sourceId": 4269787,
     "sourceType": "datasetVersion"
    }
   ],
   "dockerImageVersionId": 30646,
   "isGpuEnabled": false,
   "isInternetEnabled": true,
   "language": "python",
   "sourceType": "notebook"
  },
  "kernelspec": {
   "display_name": "Python 3",
   "language": "python",
   "name": "python3"
  },
  "language_info": {
   "codemirror_mode": {
    "name": "ipython",
    "version": 3
   },
   "file_extension": ".py",
   "mimetype": "text/x-python",
   "name": "python",
   "nbconvert_exporter": "python",
   "pygments_lexer": "ipython3",
   "version": "3.10.13"
  },
  "papermill": {
   "default_parameters": {},
   "duration": 11.444855,
   "end_time": "2024-02-17T09:35:35.012835",
   "environment_variables": {},
   "exception": true,
   "input_path": "__notebook__.ipynb",
   "output_path": "__notebook__.ipynb",
   "parameters": {},
   "start_time": "2024-02-17T09:35:23.567980",
   "version": "2.5.0"
  }
 },
 "nbformat": 4,
 "nbformat_minor": 5
}
